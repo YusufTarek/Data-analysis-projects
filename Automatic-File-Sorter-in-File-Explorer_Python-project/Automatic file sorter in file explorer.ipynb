{
 "cells": [
  {
   "cell_type": "code",
   "execution_count": 1,
   "id": "54a695f7",
   "metadata": {},
   "outputs": [],
   "source": [
    "import os, shutil"
   ]
  },
  {
   "cell_type": "code",
   "execution_count": 2,
   "id": "92ce1ea3",
   "metadata": {},
   "outputs": [],
   "source": [
    "path = r\"D:/Data analysis/Datasets/New folder/\""
   ]
  },
  {
   "cell_type": "code",
   "execution_count": 3,
   "id": "db7746fb",
   "metadata": {},
   "outputs": [],
   "source": [
    "file_name = os.listdir(path)\n",
    "#print(file_name)"
   ]
  },
  {
   "cell_type": "code",
   "execution_count": 4,
   "id": "c5bc3735",
   "metadata": {},
   "outputs": [],
   "source": [
    "folder_names = ['Documents', 'Images', 'Data']\n",
    "\n",
    "for x in range(0,3):\n",
    "    if not os.path.exists(path + folder_names[x]):\n",
    "        os.makedirs(path + folder_names[x])\n",
    "        \n",
    "for file in file_name:\n",
    "    if (\".pdf\") in file and not os.path.exists(path + \"Documents/\" + file):\n",
    "        shutil.move(path + file, path + \"Documents/\" + file)\n",
    "    elif (\".txt\") in file and not os.path.exists(path + \"Documents/\" + file):\n",
    "        shutil.move(path + file, path + \"Documents/\" + file)\n",
    "    elif (\".docx\") in file and not os.path.exists(path + \"Documents/\" + file):\n",
    "        shutil.move(path + file, path + \"Documents/\" + file)\n",
    "    elif (\".xlsx\") in file and not os.path.exists(path + \"Data/\" + file):\n",
    "        shutil.move(path + file, path + \"Data/\" + file)\n",
    "    elif (\".csv\") in file and not os.path.exists(path + \"Data/\" + file):\n",
    "        shutil.move(path + file, path + \"Data/\" + file)\n",
    "    elif (\".png\") in file and not os.path.exists(path + \"Images/\" + file):\n",
    "        shutil.move(path + file, path + \"Images/\" + file)\n",
    "    elif (\".jpg\") in file and not os.path.exists(path + \"Images/\" + file):\n",
    "        shutil.move(path + file, path + \"Images/\" + file)\n",
    "    elif (\".jpeg\") in file and not os.path.exists(path + \"Images/\" + file):\n",
    "        shutil.move(path + file, path + \"Images/\" + file)\n"
   ]
  },
  {
   "cell_type": "code",
   "execution_count": null,
   "id": "e23e0714",
   "metadata": {},
   "outputs": [],
   "source": []
  }
 ],
 "metadata": {
  "kernelspec": {
   "display_name": "Python 3 (ipykernel)",
   "language": "python",
   "name": "python3"
  },
  "language_info": {
   "codemirror_mode": {
    "name": "ipython",
    "version": 3
   },
   "file_extension": ".py",
   "mimetype": "text/x-python",
   "name": "python",
   "nbconvert_exporter": "python",
   "pygments_lexer": "ipython3",
   "version": "3.11.5"
  }
 },
 "nbformat": 4,
 "nbformat_minor": 5
}
